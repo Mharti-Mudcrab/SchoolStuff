{
  "nbformat": 4,
  "nbformat_minor": 0,
  "metadata": {
    "colab": {
      "name": "PythonGetStarted_Stud.ipynb",
      "provenance": [],
      "collapsed_sections": [],
      "include_colab_link": true
    },
    "kernelspec": {
      "name": "python3",
      "display_name": "Python 3"
    }
  },
  "cells": [
    {
      "cell_type": "markdown",
      "metadata": {
        "id": "view-in-github",
        "colab_type": "text"
      },
      "source": [
        "<a href=\"https://colab.research.google.com/github/EmilAsgeirsson/Diplom/blob/FifthSemester/PythonGetStarted_Stud.ipynb\" target=\"_parent\"><img src=\"https://colab.research.google.com/assets/colab-badge.svg\" alt=\"Open In Colab\"/></a>"
      ]
    },
    {
      "cell_type": "markdown",
      "metadata": {
        "id": "Ja58rrcWw6OS",
        "colab_type": "text"
      },
      "source": [
        "# Assignment: Get Started in Python & common libraries\n",
        "Complete this notebook for lecture 2.\n",
        "\n",
        "Then we will discuss it in groups & in class."
      ]
    },
    {
      "cell_type": "code",
      "metadata": {
        "id": "SodAeFeexIAj",
        "colab_type": "code",
        "colab": {
          "base_uri": "https://localhost:8080/",
          "height": 170
        },
        "outputId": "2ead0e33-1bb0-4f2b-eff2-3a850940d808"
      },
      "source": [
        "import sys\n",
        "import numpy as np\n",
        "import matplotlib as mpl\n",
        "import matplotlib.pyplot as plt\n",
        "\n",
        "print(\"Python version:\")\n",
        "print(sys.version)\n",
        "print(\"\\nNumpy version:\")\n",
        "print(np.__version__)\n",
        "print(\"\\nMatplotlib version:\")\n",
        "print(mpl.__version__)"
      ],
      "execution_count": null,
      "outputs": [
        {
          "output_type": "stream",
          "text": [
            "Python version:\n",
            "3.6.9 (default, Jul 17 2020, 12:50:27) \n",
            "[GCC 8.4.0]\n",
            "\n",
            "Numpy version:\n",
            "1.18.5\n",
            "\n",
            "Matplotlib version:\n",
            "3.2.2\n"
          ],
          "name": "stdout"
        }
      ]
    },
    {
      "cell_type": "code",
      "metadata": {
        "id": "d10aOAoNyc3f",
        "colab_type": "code",
        "colab": {}
      },
      "source": [
        "# Create a list of 5 strings, where each string is some object that you can see near you\n",
        "list_of_things = [\"langt hår\", \"næse\", \"kanin\", \"bluetooth mus\", \"klud\"]"
      ],
      "execution_count": null,
      "outputs": []
    },
    {
      "cell_type": "code",
      "metadata": {
        "id": "HMTIo_310TvB",
        "colab_type": "code",
        "colab": {
          "base_uri": "https://localhost:8080/",
          "height": 102
        },
        "outputId": "74dad96c-3381-4a24-ac62-847a7e2311a0"
      },
      "source": [
        "# Make a for loop that iterates over every element of your list and prints it out\n",
        "for i in list_of_things:\n",
        "  print(i)"
      ],
      "execution_count": null,
      "outputs": [
        {
          "output_type": "stream",
          "text": [
            "langt hår\n",
            "næse\n",
            "kanin\n",
            "bluetooth mus\n",
            "klud\n"
          ],
          "name": "stdout"
        }
      ]
    },
    {
      "cell_type": "code",
      "metadata": {
        "id": "111YTo-h0mVh",
        "colab_type": "code",
        "colab": {
          "base_uri": "https://localhost:8080/",
          "height": 884
        },
        "outputId": "f3a1ca80-f523-4929-8681-b010f6bee2d0"
      },
      "source": [
        "# Use np.arange() to create a numpy array that contains all integers between 0 and 100 (including 100)\n",
        "# Then write a for loop that iterates over every element and prints the number only if the number is even.\n",
        "# Hint: Use an if-statement and the modulus operator (%)\n",
        "array_of_ints = np.arange(101)\n",
        "for i in array_of_ints:\n",
        "  if (i % 2) == 0:\n",
        "    print(i)\n"
      ],
      "execution_count": null,
      "outputs": [
        {
          "output_type": "stream",
          "text": [
            "0\n",
            "2\n",
            "4\n",
            "6\n",
            "8\n",
            "10\n",
            "12\n",
            "14\n",
            "16\n",
            "18\n",
            "20\n",
            "22\n",
            "24\n",
            "26\n",
            "28\n",
            "30\n",
            "32\n",
            "34\n",
            "36\n",
            "38\n",
            "40\n",
            "42\n",
            "44\n",
            "46\n",
            "48\n",
            "50\n",
            "52\n",
            "54\n",
            "56\n",
            "58\n",
            "60\n",
            "62\n",
            "64\n",
            "66\n",
            "68\n",
            "70\n",
            "72\n",
            "74\n",
            "76\n",
            "78\n",
            "80\n",
            "82\n",
            "84\n",
            "86\n",
            "88\n",
            "90\n",
            "92\n",
            "94\n",
            "96\n",
            "98\n",
            "100\n"
          ],
          "name": "stdout"
        }
      ]
    },
    {
      "cell_type": "code",
      "metadata": {
        "id": "lNvUEXpl1zl5",
        "colab_type": "code",
        "colab": {
          "base_uri": "https://localhost:8080/",
          "height": 34
        },
        "outputId": "afe3b92c-2ad7-4edd-9195-d6700453aecf"
      },
      "source": [
        "# We have given you a python list containing integers between 0 and 10.\n",
        "# Convert this list to a numpy array where every integer has been doubled (do not use a for loop for this) and print out the contents of the array.\n",
        "just_a_list = [0, 1, 2, 3, 4, 5, 6, 7, 8, 9, 10]\n",
        "arr = np.array(just_a_list) * 2\n",
        "print(arr)"
      ],
      "execution_count": null,
      "outputs": [
        {
          "output_type": "stream",
          "text": [
            "[ 0  2  4  6  8 10 12 14 16 18 20]\n"
          ],
          "name": "stdout"
        }
      ]
    },
    {
      "cell_type": "code",
      "metadata": {
        "id": "B5AHF1Ex2d4m",
        "colab_type": "code",
        "colab": {
          "base_uri": "https://localhost:8080/",
          "height": 68
        },
        "outputId": "c4b3d5e7-4941-4503-c5f0-56aec2ff8aa8"
      },
      "source": [
        "# We have given you a numpy array containing 50 random integers in the range between 0 and 1000.\n",
        "# We will use this in the next few cells.\n",
        "rand_ints = np.random.randint(low=0, high=1000, size=50)\n",
        "print(rand_ints)"
      ],
      "execution_count": null,
      "outputs": [
        {
          "output_type": "stream",
          "text": [
            "[982 886  50 456 877 349 601 904  18 713 482 829 726 898 251 168 261  99\n",
            " 499 569 619 548 435 402 959 800 286 507  89 114 582 103 927 491 878 342\n",
            " 582 493 903 942 703 939 560  88 193 915 128 425 466 368]\n"
          ],
          "name": "stdout"
        }
      ]
    },
    {
      "cell_type": "code",
      "metadata": {
        "id": "vOhQcSoq5Z2m",
        "colab_type": "code",
        "colab": {
          "base_uri": "https://localhost:8080/",
          "height": 68
        },
        "outputId": "b9586438-bc43-4ca6-95e4-73588d974dc5"
      },
      "source": [
        "# This code is filled with errors. There is one error on every line except the first and the last.\n",
        "# Hint: Remember that wrong indentations can give unexpected errors in Python.\n",
        "i = 0\n",
        "while i < len(rand_ints):\n",
        "  if rand_ints[i] < 100:\n",
        "    rand_ints[i] *= 5\n",
        "  i+= 1\n",
        "\n",
        "print(rand_ints)"
      ],
      "execution_count": null,
      "outputs": [
        {
          "output_type": "stream",
          "text": [
            "[982 886 250 456 877 349 601 904 450 713 482 829 726 898 251 168 261 495\n",
            " 499 569 619 548 435 402 959 800 286 507 445 114 582 103 927 491 878 342\n",
            " 582 493 903 942 703 939 560 440 193 915 128 425 466 368]\n"
          ],
          "name": "stdout"
        }
      ]
    },
    {
      "cell_type": "code",
      "metadata": {
        "id": "3w7bqei-84PB",
        "colab_type": "code",
        "colab": {
          "base_uri": "https://localhost:8080/",
          "height": 68
        },
        "outputId": "7b8a929d-3338-4227-9424-2b1be4f315b9"
      },
      "source": [
        "# Find a numpy method that can sort rand_ints for you in ascending order.\n",
        "# Print the beautifully sorted array.\n",
        "\n",
        "sorted_array = np.sort(rand_ints)\n",
        "print(sorted_array)"
      ],
      "execution_count": null,
      "outputs": [
        {
          "output_type": "stream",
          "text": [
            "[103 114 128 168 193 250 251 261 286 342 349 368 402 425 435 440 445 450\n",
            " 456 466 482 491 493 495 499 507 548 560 569 582 582 601 619 703 713 726\n",
            " 800 829 877 878 886 898 903 904 915 927 939 942 959 982]\n"
          ],
          "name": "stdout"
        }
      ]
    },
    {
      "cell_type": "code",
      "metadata": {
        "id": "79hAKmAO9R4X",
        "colab_type": "code",
        "colab": {
          "base_uri": "https://localhost:8080/",
          "height": 204
        },
        "outputId": "7c54c8a5-6e5b-47b5-ad77-03c6c148f959"
      },
      "source": [
        "# Find numpy methods that can give you the smallest and largest integers in your array of integers.\n",
        "# Use these values to normalize your array of integers to be in the range between 0 and 1.\n",
        "# Hint: https://www.codecademy.com/articles/normalization#:~:text=Min%2Dmax%20normalization%20is%20one,decimal%20between%200%20and%201.\n",
        "\n",
        "max_val = max(rand_ints)\n",
        "min_val = min(rand_ints)\n",
        "normalized = (sorted_array - min_val)/(max_val - min_val)\n",
        "\n",
        "# Check your code works by printing the normalized array\n",
        "# Question! Which data type are the values in your normalized array?\n",
        "\n",
        "print(max_val)\n",
        "print(min_val)\n",
        "print(normalized)\n"
      ],
      "execution_count": null,
      "outputs": [
        {
          "output_type": "stream",
          "text": [
            "982\n",
            "103\n",
            "[0.         0.01251422 0.02844141 0.07394767 0.10238908 0.16723549\n",
            " 0.16837315 0.17974972 0.20819113 0.27189989 0.27986348 0.30147895\n",
            " 0.34015927 0.36632537 0.37770193 0.38339022 0.3890785  0.39476678\n",
            " 0.40159272 0.41296928 0.43117179 0.44141069 0.44368601 0.44596132\n",
            " 0.45051195 0.4596132  0.50625711 0.51990899 0.5301479  0.54493743\n",
            " 0.54493743 0.5665529  0.58703072 0.68259386 0.69397042 0.70875995\n",
            " 0.79294653 0.82593857 0.88054608 0.88168373 0.89078498 0.90443686\n",
            " 0.91012514 0.9112628  0.92377702 0.9374289  0.95108077 0.95449374\n",
            " 0.9738339  1.        ]\n"
          ],
          "name": "stdout"
        }
      ]
    },
    {
      "cell_type": "code",
      "metadata": {
        "id": "N7V4UeQd-zfo",
        "colab_type": "code",
        "colab": {
          "base_uri": "https://localhost:8080/",
          "height": 34
        },
        "outputId": "373355d6-4a45-4572-bd01-d612b06572c1"
      },
      "source": [
        "# Find a numpy method for converting your normalized array to data type \"float16\"\n",
        "\n",
        "normalized = np.float16(normalized)\n",
        "print(type(normalized[0]))"
      ],
      "execution_count": null,
      "outputs": [
        {
          "output_type": "stream",
          "text": [
            "<class 'numpy.float16'>\n"
          ],
          "name": "stdout"
        }
      ]
    },
    {
      "cell_type": "code",
      "metadata": {
        "id": "tPB23H7eAxRh",
        "colab_type": "code",
        "colab": {
          "base_uri": "https://localhost:8080/",
          "height": 204
        },
        "outputId": "f47de968-9c7f-4624-909e-bf8e36b4359e"
      },
      "source": [
        "# Make a python function that can take as argument a python list of integers. It must then do the following:\n",
        "# 1) Convert the python list to a numpy array\n",
        "# 2) Sort the array in ascending order\n",
        "# 3) Normalize the array to the range between -0.5 and 0.5\n",
        "# 4) Convert the array to data type \"float32\"\n",
        "# 5) Print the normalized array, its data type, and return it\n",
        "\n",
        "def normalizer(l):\n",
        "  arr = np.array(l)\n",
        "  sorted_arr = np.sort(arr)\n",
        "  max_val = max(arr)\n",
        "  min_val = min(arr)\n",
        "  normalized_array = (sorted_arr - min_val)/(max_val - min_val) - 0.5\n",
        "  normal_arr = np.float32(normalized_array)\n",
        "  print(type(normal_arr[0]))\n",
        "  print(normal_arr)\n",
        "  return normal_arr\n",
        "\n",
        "l = list(range(0, 55))\n",
        "nor = normalizer(l)\n"
      ],
      "execution_count": null,
      "outputs": [
        {
          "output_type": "stream",
          "text": [
            "<class 'numpy.float32'>\n",
            "[-0.5        -0.4814815  -0.46296296 -0.44444445 -0.42592594 -0.4074074\n",
            " -0.3888889  -0.37037036 -0.35185185 -0.33333334 -0.3148148  -0.2962963\n",
            " -0.2777778  -0.25925925 -0.24074075 -0.22222222 -0.2037037  -0.18518518\n",
            " -0.16666667 -0.14814815 -0.12962963 -0.11111111 -0.09259259 -0.07407407\n",
            " -0.05555556 -0.03703704 -0.01851852  0.          0.01851852  0.03703704\n",
            "  0.05555556  0.07407407  0.09259259  0.11111111  0.12962963  0.14814815\n",
            "  0.16666667  0.18518518  0.2037037   0.22222222  0.24074075  0.25925925\n",
            "  0.2777778   0.2962963   0.3148148   0.33333334  0.35185185  0.37037036\n",
            "  0.3888889   0.4074074   0.42592594  0.44444445  0.46296296  0.4814815\n",
            "  0.5       ]\n"
          ],
          "name": "stdout"
        }
      ]
    },
    {
      "cell_type": "code",
      "metadata": {
        "id": "N9RXUIG7DFuI",
        "colab_type": "code",
        "colab": {
          "base_uri": "https://localhost:8080/",
          "height": 282
        },
        "outputId": "4d62905c-a1fc-42aa-8b6f-883195981241"
      },
      "source": [
        "# Use the plot() method from matplotlib.pyplot to visualize your normalized array from the cell above.\n",
        "plt.plot(nor)"
      ],
      "execution_count": null,
      "outputs": [
        {
          "output_type": "execute_result",
          "data": {
            "text/plain": [
              "[<matplotlib.lines.Line2D at 0x7f408a6c7470>]"
            ]
          },
          "metadata": {
            "tags": []
          },
          "execution_count": 92
        },
        {
          "output_type": "display_data",
          "data": {
            "image/png": "[encoded data removed]",
            "text/plain": [
              "<Figure size 432x288 with 1 Axes>"
            ]
          },
          "metadata": {
            "tags": [],
            "needs_background": "light"
          }
        }
      ]
    }
  ]
}