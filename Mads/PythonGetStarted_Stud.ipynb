{
  "nbformat": 4,
  "nbformat_minor": 0,
  "metadata": {
    "colab": {
      "name": "PythonGetStarted_Stud.ipynb",
      "provenance": [],
      "collapsed_sections": [],
      "include_colab_link": true
    },
    "kernelspec": {
      "name": "python3",
      "display_name": "Python 3"
    }
  },
  "cells": [
    {
      "cell_type": "markdown",
      "metadata": {
        "id": "view-in-github",
        "colab_type": "text"
      },
      "source": [
        "<a href=\"https://colab.research.google.com/github/Mharti-Mudcrab/SchoolStuff/blob/Introduktion_til_deep_learning_og_convolutional_neurale_netv%C3%A6rk_til_digital_billedgenkendelse/PythonGetStarted_Stud.ipynb\" target=\"_parent\"><img src=\"https://colab.research.google.com/assets/colab-badge.svg\" alt=\"Open In Colab\"/></a>"
      ]
    },
    {
      "cell_type": "markdown",
      "metadata": {
        "id": "Ja58rrcWw6OS",
        "colab_type": "text"
      },
      "source": [
        "# Assignment: Get Started in Python & common libraries\n",
        "Complete this notebook for lecture 2.\n",
        "\n",
        "Then we will discuss it in groups & in class."
      ]
    },
    {
      "cell_type": "code",
      "metadata": {
        "id": "SodAeFeexIAj",
        "colab_type": "code",
        "colab": {
          "base_uri": "https://localhost:8080/",
          "height": 170
        },
        "outputId": "5ea03ce1-2500-4f61-c238-2173cfd8cbf9"
      },
      "source": [
        "import sys\n",
        "import numpy as np\n",
        "import matplotlib as mpl\n",
        "import matplotlib.pyplot as plt\n",
        "\n",
        "print(\"Python version:\")\n",
        "print(sys.version)\n",
        "print(\"\\nNumpy version:\")\n",
        "print(np.__version__)\n",
        "print(\"\\nMatplotlib version:\")\n",
        "print(mpl.__version__)"
      ],
      "execution_count": null,
      "outputs": [
        {
          "output_type": "stream",
          "text": [
            "Python version:\n",
            "3.6.9 (default, Jul 17 2020, 12:50:27) \n",
            "[GCC 8.4.0]\n",
            "\n",
            "Numpy version:\n",
            "1.18.5\n",
            "\n",
            "Matplotlib version:\n",
            "3.2.2\n"
          ],
          "name": "stdout"
        }
      ]
    },
    {
      "cell_type": "code",
      "metadata": {
        "id": "d10aOAoNyc3f",
        "colab_type": "code",
        "colab": {}
      },
      "source": [
        "# Create a list of 5 strings, where each string is some object that you can see near you\n",
        "list_of_things = ['Siggi', 'stol', 'vand', 'mus', 'hat']"
      ],
      "execution_count": null,
      "outputs": []
    },
    {
      "cell_type": "code",
      "metadata": {
        "id": "HMTIo_310TvB",
        "colab_type": "code",
        "colab": {
          "base_uri": "https://localhost:8080/",
          "height": 102
        },
        "outputId": "cc07ff71-6b41-4ffe-d227-c48106f1fe4b"
      },
      "source": [
        "# Make a for loop that iterates over every element of your list and prints it out\n",
        "for x in list_of_things:\n",
        "  print(x)\n"
      ],
      "execution_count": null,
      "outputs": [
        {
          "output_type": "stream",
          "text": [
            "Siggi\n",
            "stol\n",
            "vand\n",
            "mus\n",
            "hat\n"
          ],
          "name": "stdout"
        }
      ]
    },
    {
      "cell_type": "code",
      "metadata": {
        "id": "111YTo-h0mVh",
        "colab_type": "code",
        "colab": {}
      },
      "source": [
        "# Use np.arange() to create a numpy array that contains all integers between 0 and 100 (including 100)\n",
        "# Then write a for loop that iterates over every element and prints the number only if the number is even.\n",
        "# Hint: Use an if-statement and the modulus operator (%)\n",
        "array_of_ints = np.arange(101)\n",
        "for x in array_of_ints:\n",
        "  if x % 2 == 0 :\n",
        "    print(x)\n"
      ],
      "execution_count": null,
      "outputs": []
    },
    {
      "cell_type": "code",
      "metadata": {
        "id": "lNvUEXpl1zl5",
        "colab_type": "code",
        "colab": {
          "base_uri": "https://localhost:8080/",
          "height": 34
        },
        "outputId": "26f261b1-11d8-440f-f1c3-7f66b56bb778"
      },
      "source": [
        "# We have given you a python list containing integers between 0 and 10.\n",
        "# Convert this list to a numpy array where every integer has been doubled (do not use a for loop for this) and print out the contents of the array.\n",
        "just_a_list = [0, 1, 2, 3, 4, 5, 6, 7, 8, 9, 10]\n",
        "x = np.array(just_a_list) * 2\n",
        "print(x)\n"
      ],
      "execution_count": null,
      "outputs": [
        {
          "output_type": "stream",
          "text": [
            "[ 0  2  4  6  8 10 12 14 16 18 20]\n"
          ],
          "name": "stdout"
        }
      ]
    },
    {
      "cell_type": "code",
      "metadata": {
        "id": "B5AHF1Ex2d4m",
        "colab_type": "code",
        "colab": {
          "base_uri": "https://localhost:8080/",
          "height": 68
        },
        "outputId": "faa2d643-f2ef-44e8-e376-c2d6d95d179f"
      },
      "source": [
        "# We have given you a numpy array containing 50 random integers in the range between 0 and 1000.\n",
        "# We will use this in the next few cells.\n",
        "rand_ints = np.random.randint(low=0, high=1000, size=50)\n",
        "print(rand_ints)"
      ],
      "execution_count": null,
      "outputs": [
        {
          "output_type": "stream",
          "text": [
            "[198 472 770 999   2 230 298 611 744 805 984 621 489 645 611 570 282 485\n",
            " 657 869 763 472 998 272 847 292 346 389  73 943 311 577 202 416 236 829\n",
            " 425 682 973 573 919 418 982 674 386 170 409 342 295 971]\n"
          ],
          "name": "stdout"
        }
      ]
    },
    {
      "cell_type": "code",
      "metadata": {
        "id": "vOhQcSoq5Z2m",
        "colab_type": "code",
        "colab": {
          "base_uri": "https://localhost:8080/",
          "height": 68
        },
        "outputId": "00b324db-a0c1-4e25-967a-be0843bd6140"
      },
      "source": [
        "# This code is filled with errors. There is one error on every line except the first and the last.\n",
        "# Hint: Remember that wrong indentations can give unexpected errors in Python.\n",
        "i = 0\n",
        "while i < len(rand_ints) :\n",
        "  if rand_ints[i] < 100 :\n",
        "    rand_ints[i] *= 5\n",
        "  i += 1\n",
        "\n",
        "print(rand_ints)"
      ],
      "execution_count": null,
      "outputs": [
        {
          "output_type": "stream",
          "text": [
            "[198 472 770 999 250 230 298 611 744 805 984 621 489 645 611 570 282 485\n",
            " 657 869 763 472 998 272 847 292 346 389 365 943 311 577 202 416 236 829\n",
            " 425 682 973 573 919 418 982 674 386 170 409 342 295 971]\n"
          ],
          "name": "stdout"
        }
      ]
    },
    {
      "cell_type": "code",
      "metadata": {
        "id": "3w7bqei-84PB",
        "colab_type": "code",
        "colab": {}
      },
      "source": [
        "# Find a numpy method that can sort rand_ints for you in ascending order.\n",
        "# Print the beautifully sorted array.\n",
        "\n",
        "sorted_array = np.sort(rand_ints)\n",
        "print(sorted_array)"
      ],
      "execution_count": null,
      "outputs": []
    },
    {
      "cell_type": "code",
      "metadata": {
        "id": "79hAKmAO9R4X",
        "colab_type": "code",
        "colab": {
          "base_uri": "https://localhost:8080/",
          "height": 170
        },
        "outputId": "e11449c0-3817-46c4-8081-7eeacf8820d5"
      },
      "source": [
        "# Find numpy methods that can give you the smallest and largest integers in your array of integers.\n",
        "# Use these values to normalize your array of integers to be in the range between 0 and 1.\n",
        "# Hint: https://www.codecademy.com/articles/normalization#:~:text=Min%2Dmax%20normalization%20is%20one,decimal%20between%200%20and%201.\n",
        "\n",
        "max_val = sorted_array.max()\n",
        "min_val = sorted_array.min()\n",
        "normalized = (sorted_array - min_val) / (max_val - min_val)\n",
        "\n",
        "print(normalized)\n",
        "\n",
        "# Check your code works by printing the normalized array\n",
        "# Question! Which data type are the values in your normalized array?\n"
      ],
      "execution_count": null,
      "outputs": [
        {
          "output_type": "stream",
          "text": [
            "[0.         0.03377563 0.03860072 0.07237636 0.07961399 0.09650181\n",
            " 0.12303981 0.13510253 0.14716526 0.15078408 0.1544029  0.17008444\n",
            " 0.20747889 0.21230398 0.23522316 0.26055489 0.2641737  0.28829916\n",
            " 0.29674306 0.29915561 0.30759952 0.36429433 0.36429433 0.37997587\n",
            " 0.38480097 0.48250905 0.48612786 0.49095296 0.53196622 0.53196622\n",
            " 0.54402895 0.57297949 0.58745476 0.6079614  0.61761158 0.69240048\n",
            " 0.71531966 0.72376357 0.76598311 0.79493366 0.81664656 0.84318456\n",
            " 0.90349819 0.93244873 0.96622437 0.96863691 0.97949337 0.98190591\n",
            " 0.99879373 1.        ]\n"
          ],
          "name": "stdout"
        }
      ]
    },
    {
      "cell_type": "code",
      "metadata": {
        "id": "N7V4UeQd-zfo",
        "colab_type": "code",
        "colab": {}
      },
      "source": [
        "# Find a numpy method for converting your normalized array to data type \"float16\"\n",
        "\n",
        "normalized = np.float16(normalized)\n",
        "\n",
        "print(type(normalized[0]))"
      ],
      "execution_count": null,
      "outputs": []
    },
    {
      "cell_type": "code",
      "metadata": {
        "id": "tPB23H7eAxRh",
        "colab_type": "code",
        "colab": {
          "base_uri": "https://localhost:8080/",
          "height": 170
        },
        "outputId": "6d9dee15-6b32-4c08-be99-6a22e5f23a78"
      },
      "source": [
        "# Make a python function that can take as argument a python list of integers. It must then do the following:\n",
        "# 1) Convert the python list to a numpy array\n",
        "# 2) Sort the array in ascending order\n",
        "# 3) Normalize the array to the range between -0.5 and 0.5\n",
        "# 4) Convert the array to data type \"float32\"\n",
        "# 5) Print the normalized array, its data type, and return it\n",
        "\n",
        "def normalizer(list_of_thangs):\n",
        "  numpy_array = np.array(list_of_thangs)\n",
        "  sorted_array = np.sort(numpy_array)\n",
        "  normalised = (sorted_array - sorted_array.min()) / (sorted_array.max() - sorted_array.min()) -0.5\n",
        "  float32_normalised = np.float32(normalised)\n",
        "  print(float32_normalised, type(float32_normalised))\n",
        "  return float32_normalised\n",
        "\n",
        "l = list(range(0, 50))\n",
        "nor = normalizer(l)"
      ],
      "execution_count": null,
      "outputs": [
        {
          "output_type": "stream",
          "text": [
            "[-0.5        -0.47959185 -0.45918366 -0.4387755  -0.41836736 -0.39795917\n",
            " -0.37755102 -0.35714287 -0.33673468 -0.31632653 -0.29591838 -0.2755102\n",
            " -0.25510204 -0.23469388 -0.21428572 -0.19387755 -0.1734694  -0.15306123\n",
            " -0.13265306 -0.1122449  -0.09183674 -0.07142857 -0.05102041 -0.03061225\n",
            " -0.01020408  0.01020408  0.03061225  0.05102041  0.07142857  0.09183674\n",
            "  0.1122449   0.13265306  0.15306123  0.1734694   0.19387755  0.21428572\n",
            "  0.23469388  0.25510204  0.2755102   0.29591838  0.31632653  0.33673468\n",
            "  0.35714287  0.37755102  0.39795917  0.41836736  0.4387755   0.45918366\n",
            "  0.47959185  0.5       ] <class 'numpy.ndarray'>\n"
          ],
          "name": "stdout"
        }
      ]
    },
    {
      "cell_type": "code",
      "metadata": {
        "id": "N9RXUIG7DFuI",
        "colab_type": "code",
        "colab": {
          "base_uri": "https://localhost:8080/",
          "height": 282
        },
        "outputId": "d6568dcc-197d-47fb-93fa-56cfe775cc86"
      },
      "source": [
        "# Use the plot() method from matplotlib.pyplot to visualize your normalized array from the cell above.\n",
        "plt.plot(nor)"
      ],
      "execution_count": null,
      "outputs": [
        {
          "output_type": "execute_result",
          "data": {
            "text/plain": [
              "[<matplotlib.lines.Line2D at 0x7fdf4ebad4e0>]"
            ]
          },
          "metadata": {
            "tags": []
          },
          "execution_count": 44
        },
        {
          "output_type": "display_data",
          "data": {
            "image/png": "[encoded data removed]",
            "text/plain": [
              "<Figure size 432x288 with 1 Axes>"
            ]
          },
          "metadata": {
            "tags": [],
            "needs_background": "light"
          }
        }
      ]
    },
    {
      "cell_type": "code",
      "metadata": {
        "id": "ApjJ6DoIDhfj",
        "colab_type": "code",
        "colab": {}
      },
      "source": [
        ""
      ],
      "execution_count": null,
      "outputs": []
    }
  ]
}